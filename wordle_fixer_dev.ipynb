{
 "cells": [
  {
   "cell_type": "code",
   "execution_count": 21,
   "metadata": {},
   "outputs": [],
   "source": [
    "import pandas as pd\n",
    "import numpy as np"
   ]
  },
  {
   "cell_type": "code",
   "execution_count": 22,
   "metadata": {},
   "outputs": [],
   "source": [
    "df = pd.read_excel('C:/Users/james/OneDrive/Desktop/Projects/wordle/word_data_created.xlsx')"
   ]
  },
  {
   "cell_type": "code",
   "execution_count": 45,
   "metadata": {},
   "outputs": [],
   "source": [
    "def find_word_with_letters(import_df, must_be_present: str):\n",
    "    # df = pd.read_excel(import_path)\n",
    "    df = import_df.copy()\n",
    "\n",
    "    count_list = []\n",
    "    for i in range(len(df)):\n",
    "        counting = 0\n",
    "        for j in must_be_present:\n",
    "            if df['word'][i].find(j) == -1:\n",
    "                counting += 0\n",
    "            else:\n",
    "                counting += 1\n",
    "        count_list.append(counting)\n",
    "            \n",
    "    df['char_match_count'] = count_list\n",
    "\n",
    "    df = df.sort_values(by = ['char_match_count', 'word_score'], ascending =  False)\n",
    "    df = df[['word', 'char_match_count']]\n",
    "\n",
    "    try:\n",
    "        final_out1 = f\"Pick 1: {df.iat[0, 0]} ({df['char_match_count'].iloc[0]} match)\"\n",
    "    except:\n",
    "        final_out1 = 'No words found'\n",
    "    try:\n",
    "        final_out2 = f\"Pick 2: {df.iat[1, 0]} ({df['char_match_count'].iloc[1]} match)\"\n",
    "    except:\n",
    "        final_out2 = ''\n",
    "    try:\n",
    "        final_out3 = f\"Pick 3: {df.iat[2, 0]} ({df['char_match_count'].iloc[2]} match)\"\n",
    "    except:\n",
    "        final_out3 = ''\n",
    "    try:\n",
    "        final_out4 = f\"Pick 4: {df.iat[3, 0]} ({df['char_match_count'].iloc[3]} match)\"\n",
    "    except:\n",
    "        final_out4 = ''\n",
    "    try:\n",
    "        final_out5 = f\"Pick 5: {df.iat[4, 0]} ({df['char_match_count'].iloc[4]} match)\"\n",
    "    except:\n",
    "        final_out5 = ''\n",
    "\n",
    "    return final_out1, final_out2, final_out3, final_out4, final_out5\n",
    "\n",
    "    # return df['char_match_count'].iloc[0]"
   ]
  },
  {
   "cell_type": "code",
   "execution_count": 46,
   "metadata": {},
   "outputs": [
    {
     "data": {
      "text/plain": [
       "('Pick 1: champ (4 match)',\n",
       " 'Pick 2: chomp (4 match)',\n",
       " 'Pick 3: chimp (4 match)',\n",
       " 'Pick 4: chump (4 match)',\n",
       " 'Pick 5: caped (3 match)')"
      ]
     },
     "execution_count": 46,
     "metadata": {},
     "output_type": "execute_result"
    }
   ],
   "source": [
    "find_word_with_letters(df,\n",
    "    'dcphm') # desired letters to be present (leave no spaces)"
   ]
  }
 ],
 "metadata": {
  "kernelspec": {
   "display_name": "Python 3.10.2 64-bit",
   "language": "python",
   "name": "python3"
  },
  "language_info": {
   "codemirror_mode": {
    "name": "ipython",
    "version": 3
   },
   "file_extension": ".py",
   "mimetype": "text/x-python",
   "name": "python",
   "nbconvert_exporter": "python",
   "pygments_lexer": "ipython3",
   "version": "3.10.2"
  },
  "orig_nbformat": 4,
  "vscode": {
   "interpreter": {
    "hash": "413c54d42d867d78bc5693b88112002b4b75f03abc9fed1665b973f73c05d110"
   }
  }
 },
 "nbformat": 4,
 "nbformat_minor": 2
}
